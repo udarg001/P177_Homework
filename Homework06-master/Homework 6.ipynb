{
 "cells": [
  {
   "cell_type": "markdown",
   "metadata": {},
   "source": [
    "# Homework 6: A Systematic Homework on Randomness\n",
    "\n",
    "Physics 177, Spring 2017 (Prof. Tanedo)  \n",
    "(Problem 1b Revised May 23)  \n",
    "Revised: Monday, May 15th  \n",
    "Due: Tuesday, May 23    \n",
    "\n",
    "Ugne Dargyte\n"
   ]
  },
  {
   "cell_type": "markdown",
   "metadata": {},
   "source": [
    "## Problem 1: Drunkard's Walk in One Dimension\n",
    "This problem is motivated by Chapter 7 of *Computational Physics, Second Edition* by N. Giordano and H. Nakanishi.\n",
    "\n",
    "\n",
    "*Insert your favorite joke about the Thursday night wine and music events.*\n",
    "\n",
    "The drunkard's walk problem is an example of a **stochastic** system (randomness plays a key role). A drunkard walks randomly in one dimension, as defined by the following rule:\n",
    "\n",
    "* At each time step, the drunkard randomly picks a direction (forward or backward) and takes one step in that direction.\n",
    "\n",
    "In this problem, will use Python's `random` library to code the drunkard's walk in an array. You then relate this problem to diffusion in a physical system."
   ]
  },
  {
   "cell_type": "markdown",
   "metadata": {},
   "source": [
    "### Problem 1a\n",
    "\n",
    "Code the drunkard's walk for `nSteps=1000` steps. Assume the drunkard starts at the original The result of your code should be an array of positions. It is also useful to keep an array of squared positions, $x^2$. \n",
    "Plot the drunkard's walk ($x$ as a function of step number) and the squared displacement ($x^2$ as a function of step number) for a given random seed."
   ]
  },
  {
   "cell_type": "code",
   "execution_count": 1,
   "metadata": {
    "collapsed": false
   },
   "outputs": [],
   "source": [
    "from random import * #imports random as random \n",
    "import numpy as np\n",
    "\n",
    "nSteps = 1000 #number of steps \n",
    "\n",
    "# create an empty array for the positions\n",
    "\n",
    "Position_array = []\n",
    "position_init = 0.0 \n",
    "position = position_init #initialize the position to be at the origin \n",
    "\n",
    "#create a random loop that will append Position for nSteps \n",
    "#use random() to generate a number between 0 and 1.0. \n",
    "#Whether the drunkard will step forward or backward will be determined by whether the randomly generate number is even or or \n",
    "#Therefore, we need an if and else loop \n",
    "\n",
    "#the position of the drunkard will be determined by a coordinate system, in which y will always be zero and x will be \n",
    "#determined the random loop\n",
    "#the loop will add either +1 or -1 to the current value of x \n",
    "#the position will be stored in 'Position' array\n",
    "\n",
    "#for i in range(nSteps): \n",
    "    #Position_array.append(position) #fill the array with current position\n",
    "    #step = random() #determines the random step\n",
    "    #if step % 2 == 0: #if step is even -> walk forward \n",
    "        #position += 1 # adds one step towards the current position\n",
    "    #else:\n",
    "        #position -= 1 #subtracts one step from the current position\n",
    "                \n",
    "\n",
    "#print (Position_array)       \n",
    "    \n",
    "    "
   ]
  },
  {
   "cell_type": "markdown",
   "metadata": {},
   "source": [
    "In the code above in could not understand why my drunkard was always walking backwards. Well, a number between 0 and 1 will never divide evenly by 2. "
   ]
  },
  {
   "cell_type": "code",
   "execution_count": 2,
   "metadata": {
    "collapsed": false
   },
   "outputs": [],
   "source": [
    "#number = random()\n",
    "#print(number)"
   ]
  },
  {
   "cell_type": "code",
   "execution_count": 3,
   "metadata": {
    "collapsed": false
   },
   "outputs": [],
   "source": [
    "from random import * #imports random as random \n",
    "import numpy as np\n",
    "import matplotlib.pyplot as plt\n",
    "\n",
    "nSteps = 1000 #number of steps \n",
    "\n",
    "# create an empty array for the positions\n",
    "\n",
    "Position_array = []\n",
    "position_init = 0.0 \n",
    "position = position_init #initialize the position to be at the origin \n",
    "\n",
    "#create a random loop that will append Position for nSteps \n",
    "#use randomint() to generate a number between 0 and 100 \n",
    "#Whether the drunkard will step forward or backward will be determined by whether the randomly generate number is even or or \n",
    "#Therefore, we need an if and else loop \n",
    "\n",
    "#the position of the drunkard will be determined by a coordinate system, in which y will always be zero and x will be \n",
    "#determined the random loop\n",
    "#the loop will add either +1 or -1 to the current value of x \n",
    "#the position will be stored in 'Position' array\n",
    "\n",
    "for i in range(nSteps): \n",
    "    Position_array.append(position) #fill the array with current position\n",
    "    step = randint(1, 100) #determines the random step\n",
    "    if step % 2 == 0: #if step is even -> walk forward \n",
    "        position += 1 # adds one step towards the current position\n",
    "    else:\n",
    "        position -= 1 #subtracts one step from the current position\n",
    "                \n",
    "\n",
    "#print (Position_array)\n",
    "  \n",
    "#Plot drunkards walk (x as a function of step number) \n",
    "\n",
    "Step_array = np.arange(1,nSteps + 1,1) #create a second array of steps going from 1 to nSteps\n",
    "\n",
    "#print (Step_array)\n",
    "\n",
    "# create squared displacement x^2 \n",
    "\n",
    "SQRD = np.square(Position_array)\n",
    "\n",
    "#print (SQRD)"
   ]
  },
  {
   "cell_type": "code",
   "execution_count": 4,
   "metadata": {
    "collapsed": false
   },
   "outputs": [
    {
     "data": {
      "image/png": "[encoded data removed]",
      "text/plain": [
       "<matplotlib.figure.Figure at 0x214b3545fd0>"
      ]
     },
     "metadata": {},
     "output_type": "display_data"
    }
   ],
   "source": [
    "plt.plot(Step_array,Position_array,label='Drunkards walk')\n",
    "plt.xlabel('Steps')\n",
    "plt.ylabel('Position')\n",
    "plt.legend()\n",
    "plt.show()"
   ]
  },
  {
   "cell_type": "code",
   "execution_count": 5,
   "metadata": {
    "collapsed": false
   },
   "outputs": [
    {
     "data": {
      "image/png": "[encoded data removed]",
      "text/plain": [
       "<matplotlib.figure.Figure at 0x214b5193a90>"
      ]
     },
     "metadata": {},
     "output_type": "display_data"
    }
   ],
   "source": [
    "plt.plot(Step_array,SQRD,label='Squared Displacement')\n",
    "plt.xlabel('Steps')\n",
    "plt.ylabel('Squared Displacement')\n",
    "plt.legend()\n",
    "plt.show()\n"
   ]
  },
  {
   "cell_type": "markdown",
   "metadata": {},
   "source": [
    "### Problem 1b (revised Tuesday, May 23)\n",
    "\n",
    "**This question has been revised for clarity.**\n",
    "\n",
    "A useful quantity is the *average* of $x^2$ over all previous steps in the drunkard's walk. Call this $\\langle x^2 \\rangle_i$. For example, for the fifth step,  \n",
    "\n",
    "$\\langle x^2 \\rangle_5 = \\frac{1}{5}\\left(x_1^2 + x_2^2 + x_3^2 + x_4^2 + x_5^2\\right)$.  \n",
    "\n",
    "However, an even *more* useful quantity is the average of $\\langle x^2 \\rangle_i$ over an ensemble of many drunkards. For example, if we had three drunkards (Alice, Bob, and Charlie), then this quantity, $\\langle \\langle x^2 \\rangle_i \\rangle$, is\n",
    "\n",
    "$\\langle \\langle x^2 \\rangle_i \\rangle = \\frac{1}{3}\\left( \\langle x^2 \\rangle_i^A + \\langle x^2 \\rangle_i^B + \\langle x^2 \\rangle_i^C \\right)$.  \n",
    "\n",
    "For our purposes, pick `nWalkers=100`. This means that you will simulate `nWalkers` different random walks. The \"average of $\\langle x^2\\rangle$ over walkers\" gives an array of length `nSteps` where each element is an average of $\\langle x^2 \\rangle_i$ over the `nWalker` drunkards. \n",
    "\n",
    "Your code should output:  \n",
    "\n",
    "$\\langle \\langle x^2 \\rangle_i\\rangle = \\frac{1}{n_\\text{Walkers}} \\sum_{a} \\langle x^2\\rangle_i^a$  ,\n",
    "where $a$ runs over the different drunkards.\n",
    "\n",
    "The resulting plot as a function of step number should look much better behaved. In fact, it should fit to\n",
    "\n",
    "$\\langle \\langle x^2 \\rangle_i\\rangle = 2 D t_i$,\n",
    "\n",
    "where $D$ is the diffusion constant. That is: this plot should be linear in step number. What is the value of $D$ based on your plot?"
   ]
  },
  {
   "cell_type": "code",
   "execution_count": 6,
   "metadata": {
    "collapsed": true
   },
   "outputs": [],
   "source": [
    "#nWalkers = 100\n",
    "#nSteps = 1000\n",
    "\n",
    "#Position_array = [] #will be filled with <<x^2>i>\n",
    "#position_init = 0.0 \n",
    "#position = position_init #the initial position of each walker \n",
    "#Walker_array = [] # will be filled with <x^2>i,a where a runs over the different drunkards \n",
    "#walker_init = 0.0\n",
    "#walker = walker_init\n",
    "\n",
    "# average of SQRD over walkers \n",
    "# Each Drunkard takes one step\n",
    "# These steps are then Squared\n",
    "# Added together \n",
    "# Divide by nWalkers\n",
    "\n",
    "\n",
    "\n",
    "# Repeat for nSteps\n",
    "\n",
    "#for i in range (nWalkers):\n",
    "    #for j in range (nSteps): #loop will go through all nSteps within all nWalkers\n",
    "        #Position_array.append(position)\n",
    "        #step = randint(1, 100) #determines the random step\n",
    "        #if step % 2 == 0: #if step is even -> walk forward \n",
    "        #    position += 1 # adds one step towards the current position\n",
    "        #else:\n",
    "        #    position -= 1 #subtracts one step from the current position\n",
    "\n",
    "\n",
    "#for i in range (nSteps): \n",
    "#    for j in range (nWalkers): #loop will go through all nWalkers in nth Step\n",
    "#        #Walker_array will be an array of length nWalkers, each saving the position of the nth step \n",
    "#        #This array will be filler with walker\n",
    "#        Walker_array.append(position)\n",
    "#       \n",
    "#        #this loop will determine the  random step for each walker, cycling through the nWalkers loop to fill in the Walker_array\n",
    "#        #that contains the current position of each nWalker \n",
    "#        \n",
    "#        step = randin(1,100)\n",
    "#        if step % 2 == 0: #if step is even -> walk forward \n",
    "#            position = 1 # adds one step towards the current position\n",
    "#        else:\n",
    "#            position = -1 #subtracts one step from the current position\n",
    "\n",
    "\n",
    "        "
   ]
  },
  {
   "cell_type": "code",
   "execution_count": 7,
   "metadata": {
    "collapsed": false
   },
   "outputs": [],
   "source": [
    "from random import * \n",
    "import numpy as np\n",
    "import matplotlib.pyplot as plt\n",
    "\n",
    "nSteps = 1000\n",
    "nWalkers = 100\n",
    "\n",
    "Walker_array = np.zeros(nWalkers)   #has the nth step of each walker\n",
    "                                    #updated every single step for nSteps \n",
    "                                    #starts with 0 in all 'slots' nWalker\n",
    "\n",
    "#print (Walker_array)\n",
    "\n",
    "AvgStep_array = [] #will be of length nSteps\n",
    "                    #will be updated with AvgStep\n",
    "        \n",
    "for i in range (nSteps):\n",
    "    for i, item in enumerate(Walker_array): #loops through all indexes of the array Walker_array\n",
    "        \n",
    "        #loop 1: values independent of each other\n",
    "        #only dependent on previous list\n",
    "        #loops through all Walkers (each has an assigned index in the array) \n",
    "        #either +1/-1 previous nth position of the Steps using random()\n",
    "        #Result of loop : Walker_array length of nWalkers\n",
    "        \n",
    "        step = randint(1, 100) #determines the random step\n",
    "        if step % 2 == 0: #if step is even -> walk forward \n",
    "            Walker_array[i] += 1 # adds one step towards the current position\n",
    "        else:\n",
    "            Walker_array[i]  -= 1 #subtracts one step from the current position   \n",
    "    \n",
    "    #now we have an updated position of each Walker for the nth Step\n",
    "    \n",
    "    # create squared displacement x^2 \n",
    "\n",
    "    SQRD = np.square(Walker_array)\n",
    "    \n",
    "    AvgStep = sum(SQRD) #adds up all nth squared steps of each Walker \n",
    "    \n",
    "    AvgStep_array.append(AvgStep) #consists of <x^2>i,a\n",
    "    \n",
    "#loop starts over at Nth step\n",
    "        \n",
    "#print(Walker_array)\n",
    "        \n",
    "#print (AvgStep_array)        \n",
    "\n",
    "AVGSTEP = [x / nWalkers for x in AvgStep_array] #divides all values in my nWalkers       \n",
    "\n",
    "#print (AVGSTEP)\n",
    "\n",
    "Step_array = np.arange(1,nSteps + 1,1)\n",
    "\n"
   ]
  },
  {
   "cell_type": "code",
   "execution_count": 8,
   "metadata": {
    "collapsed": false
   },
   "outputs": [
    {
     "data": {
      "image/png": "[encoded data removed]",
      "text/plain": [
       "<matplotlib.figure.Figure at 0x214b5376d30>"
      ]
     },
     "metadata": {},
     "output_type": "display_data"
    }
   ],
   "source": [
    "plt.plot(Step_array,AVGSTEP,label='average of  ⟨x2⟩^2 over walkers')\n",
    "plt.xlabel('Step')\n",
    "plt.ylabel('Position')\n",
    "plt.legend()\n",
    "plt.show()"
   ]
  },
  {
   "cell_type": "markdown",
   "metadata": {},
   "source": [
    "### Problem 1c\n",
    "\n",
    "Do the same thing for a drunkard's walk in three dimensions. Define the position of the particle to be a `numpy` array with three components. It may be helpful to define `numpy` arrays with the possible directions one can traverse.\n",
    "\n",
    "Store these directions in a list, `directions`.  A random step then corresponds to a shift by `sample(directions,1)[0]`. (Test this.)\n",
    "\n",
    "What is the value of $D$ for the 3D drunkard's walk?"
   ]
  },
  {
   "cell_type": "markdown",
   "metadata": {},
   "source": [
    "### Problem 1.x (extra credit)\n",
    "\n",
    "*This problem has no programming, I suggest working it out on paper and then sketching the proof here, with key steps written out explicitly*\n",
    "\n",
    "Derive the diffusion equation from the discretized drunkard's walk. For simplicity, work in two dimensions. Let $P(i,j,t)$ be the probability of finding the drunkard at site $(i,j)$ and time $t$. You want to show:\n",
    "\n",
    "$\\displaystyle \\frac{\\partial P(x,y,t)}{\\partial t} = D \\nabla^2 P(x,y,t)$\n",
    "\n",
    "The key to this is the insight that the probability that the drunkard is at position $(i,j)$ at time $t$ is given by the equally weighted average of the probabilities that the drunkard was at one of the adjacent positions. \n",
    "\n",
    "Use this insight to re-write $P(i,j,t) - P(i,j,t-1)$ as a sum of terms that reproduces the Laplacian. You remember what the discretized Laplacian looks like, right?"
   ]
  },
  {
   "cell_type": "markdown",
   "metadata": {},
   "source": [
    "## Problem 2: Brownian Motion\n",
    "\n",
    "Let's use the 2D drunkard's walk to model Brownian motion. \n",
    "\n",
    "### Problem 2a\n",
    "\n",
    "Imagine a 2D box of length `L=101`. Place a \"drunkard\" in the middle of the grid. The drunkard moves in one step in any direction (north, east, south, west) each step. If the drunk hits the wall, forbit motion that goes outside of the box. \n",
    "\n",
    "Animate the position of the drunkard as a funtion of time for some period of time.\n",
    "\n",
    "### Problem 2b\n",
    "\n",
    "Same as problem 2a, but now populate the center of the box with 20 drunkards that each move randomly. For this problem, allow the drunkards to \"stack\" on top of each other if they overlap.\n",
    "\n",
    "### Problem 2x (extra credit)\n",
    "\n",
    "Semi-self-avoiding drunkards. Same as problem 2b, but now prohibit any motion that would cause drunkards to overlap with each other. You'll have to come up with some appropriate initial condition where the drunkards all start close to each other in the center of the box. There may be conditions where a drunkard cannot move."
   ]
  },
  {
   "cell_type": "code",
   "execution_count": 9,
   "metadata": {
    "collapsed": false
   },
   "outputs": [],
   "source": [
    "L = 101\n",
    "nSteps = 1000\n",
    "\n",
    "\n",
    "#Problem 2a\n",
    "\n",
    "x_position = [] #creates arrays of the x and y position on the grid\n",
    "y_position = [] #positions will be updated through the loop \n",
    "\n",
    "x_init = 0.0 #initial positions (Grid will be centered at (0,0) with limits at -50, +50 in both coordinates \n",
    "y_init = 0.0\n",
    "\n",
    "x = x_init \n",
    "y = y_init \n",
    "\n",
    "\n",
    "for i in range (nSteps):\n",
    "    x_position.append(x)\n",
    "    y_position.append(y)\n",
    "    \n",
    "    Step = randint(1,4) #generates random integer from 1 to 4 which determined the direction of walk\n",
    "    if Step == 1: #Step West\n",
    "        if x == -50: #Boundary Condition\n",
    "            x = x\n",
    "            y = y\n",
    "        else:\n",
    "            x -= 1\n",
    "            y = y \n",
    "    if Step == 2: #Step East \n",
    "        if x == 50: #Boundary Condition\n",
    "            x = x\n",
    "            y = y\n",
    "        else: \n",
    "            x += 1\n",
    "            y = y \n",
    "    if Step == 3: #Step North\n",
    "        if y == 50: #Boundary Condition\n",
    "            x = x\n",
    "            y = y\n",
    "        else: \n",
    "            x = x\n",
    "            y += 1\n",
    "    if Step == 4: #Step South\n",
    "        if y == -50: #Boundary Condition\n",
    "            x = x\n",
    "            y = y\n",
    "        else: \n",
    "            x = x\n",
    "            y -= 1 \n",
    "            \n",
    "    \n"
   ]
  },
  {
   "cell_type": "code",
   "execution_count": null,
   "metadata": {
    "collapsed": false
   },
   "outputs": [
    {
     "data": {
      "image/png": "[encoded data removed]",
      "text/plain": [
       "<matplotlib.figure.Figure at 0x214b51cd8d0>"
      ]
     },
     "metadata": {},
     "output_type": "display_data"
    }
   ],
   "source": [
    "plt.plot(x_position,y_position,label='Random Walk')\n",
    "plt.xlabel('x-coordinate')\n",
    "plt.ylabel('y-coordinate')\n",
    "plt.axis([-50, 50, -50, 50])\n",
    "plt.legend()\n",
    "plt.show()"
   ]
  },
  {
   "cell_type": "code",
   "execution_count": null,
   "metadata": {
    "collapsed": false
   },
   "outputs": [],
   "source": [
    "#Problem 2b\n",
    "\n",
    "#incorporate graphing into the loop\n",
    "\n",
    "\n",
    "L = 101\n",
    "nSteps = 1000\n",
    "nWalkers = 20\n",
    "\n",
    "\n",
    "#Problem 2a\n",
    "\n",
    "x_position = [] #creates arrays of the x and y position on the grid\n",
    "y_position = [] #positions will be updated through the loop \n",
    "\n",
    "x_init = 0.0 #initial positions (Grid will be centered at (0,0) with limits at -50, +50 in both coordinates \n",
    "y_init = 0.0\n",
    "\n",
    "x = x_init \n",
    "y = y_init \n",
    "\n",
    "for j in range (nWalkers):\n",
    "    for i in range (nSteps):\n",
    "        x_position.append(x)\n",
    "        y_position.append(y)\n",
    "    \n",
    "        Step = randint(1,4) #generates random integer from 1 to 4 which determined the direction of walk\n",
    "        if Step == 1: #Step West\n",
    "            if x == -50: #Boundary Condition\n",
    "                x = x\n",
    "                y = y\n",
    "            else:\n",
    "                x -= 1\n",
    "                y = y \n",
    "        if Step == 2: #Step East \n",
    "            if x == 50: #Boundary Condition\n",
    "                x = x\n",
    "                y = y\n",
    "            else: \n",
    "                x += 1\n",
    "                y = y \n",
    "        if Step == 3: #Step North\n",
    "            if y == 50: #Boundary Condition\n",
    "                x = x\n",
    "                y = y\n",
    "            else: \n",
    "                x = x\n",
    "                y += 1\n",
    "        if Step == 4: #Step South\n",
    "            if y == -50: #Boundary Condition\n",
    "                x = x\n",
    "                y = y\n",
    "            else: \n",
    "                x = x\n",
    "                y -= 1 \n",
    "            \n",
    "    \n",
    "        plt.plot(x_position,y_position) \n",
    "\n",
    "\n",
    "    \n",
    "plt.xlabel('x-coordinate')\n",
    "plt.ylabel('y-coordinate')\n",
    "#plt.legend()\n",
    "plt.show()\n",
    "\n"
   ]
  },
  {
   "cell_type": "markdown",
   "metadata": {},
   "source": [
    "## Problem 3: Hyperspheres and Monte Carlo\n",
    "\n",
    "Calculate the volume of a unit $n$-sphere for the cases $n$ = 2,3,4,5,6. Use the **Monte Carlo** \"throwing marbles\" method where you randomly sample points in an $n$-dimensional unit cube and keep track of how many points fall within the condition\n",
    "\n",
    "$\\sum_i^n x_i^2 < 1$.\n",
    "\n",
    "Compare to the analytic formulae here: https://en.wikipedia.org/wiki/Volume_of_an_n-ball\n",
    "\n",
    "### Problem 3x\n",
    "\n",
    "Plot the estimated hypervolume as a function of number of random samples used, and plot (as a horizontal line) the correct values from the analytic formula. Alternatively, plot the \"difference from the true result\" as a function of number of samples. \n",
    "\n",
    "Comment on how the number of samples required depends on the dimensionality of the hypersphere."
   ]
  },
  {
   "cell_type": "code",
   "execution_count": 27,
   "metadata": {
    "collapsed": false
   },
   "outputs": [
    {
     "name": "stdout",
     "output_type": "stream",
     "text": [
      "0.0\n"
     ]
    }
   ],
   "source": [
    "from random import * \n",
    "import numpy as np\n",
    "import matplotlib.pyplot as plt\n",
    "import math\n",
    "\n",
    "NumbRand = 1000 # number of random sampling\n",
    "pi = 3.14\n",
    "N = 2  #dimensions\n",
    "count = 0\n",
    "\n",
    "#Volume of an n-dimensional volume of Euclidean Ball:\n",
    "#Vn(R) = pi^(n/2)/(C*(n/2 + 1))*Rn\n",
    "\n",
    "for i in range (NumbRand): #starts a sampling loop \n",
    "        r = 1\n",
    "        for j in range (N):\n",
    "            x = 2*randint(0,1)\n",
    "            r = pow(x,2)\n",
    "        if [pow(r,2)<1]:\n",
    "            count +=count\n",
    "    \n",
    "vol = (pow(2,N)*count)/ 1000 \n",
    "print(vol)\n",
    "    "
   ]
  },
  {
   "cell_type": "code",
   "execution_count": null,
   "metadata": {
    "collapsed": true
   },
   "outputs": [],
   "source": []
  }
 ],
 "metadata": {
  "kernelspec": {
   "display_name": "Python 3",
   "language": "python",
   "name": "python3"
  },
  "language_info": {
   "codemirror_mode": {
    "name": "ipython",
    "version": 3
   },
   "file_extension": ".py",
   "mimetype": "text/x-python",
   "name": "python",
   "nbconvert_exporter": "python",
   "pygments_lexer": "ipython3",
   "version": "3.6.0"
  }
 },
 "nbformat": 4,
 "nbformat_minor": 2
}
