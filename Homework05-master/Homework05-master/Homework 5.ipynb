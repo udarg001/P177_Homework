{
 "cells": [
  {
   "cell_type": "markdown",
   "metadata": {},
   "source": [
    "# Homework 5: This or Physics Hack Day\n",
    "\n",
    "Physics 177, Spring 2017 (Prof. Tanedo)  \n",
    "Due: Tuesday, May 16  \n",
    "\n",
    "Ugne Dargyte\n",
    "\n",
    "**Important**: This homework is optional **if** you participate in Physics Hack Day:  \n",
    "http://theory.ucr.edu/PhysicsHackDay/\n",
    "\n",
    "If you do so, please delete all of the cells below and replace it with a link to the Physics Hack Day GitHub repository to which you contributed. \n"
   ]
  },
  {
   "cell_type": "markdown",
   "metadata": {},
   "source": [
    "## Problem 1: Double Pendulum\n",
    "\n",
    "In this problem, you will extend the simple pendulum in <a href=\"https://github.com/Physics177-2017/Homework04\">Homework 4</a> to a <a href=\"https://en.wikipedia.org/wiki/Double_pendulum\">double pendulum</a>.\n",
    "\n",
    "<img src=\"hw5pendulum.png\">  \n",
    "Image from <a href=\"https://commons.wikimedia.org/wiki/File:Double-Pendulum.svg\">Wikimedia Commons</a>\n",
    "\n",
    "Assume no forces other than gravity. Do not assume the small angle approximation. \n",
    "\n",
    "Plot the trajectory of the double pendulum for a few different initial conditions. Your goal is to reproduce the cool-looking trajectories in the  <a href=\"https://en.wikipedia.org/wiki/Double_pendulum\">Wikipedia article</a>, for example:\n",
    "\n",
    "<img src=\"hw5_doublepic.jpg\">"
   ]
  },
  {
   "cell_type": "code",
   "execution_count": 30,
   "metadata": {
    "collapsed": true
   },
   "outputs": [],
   "source": [
    "import numpy as np\n",
    "import matplotlib.pyplot as plt\n",
    "from math import sin as sin\n",
    "from math import cos as cos\n",
    "\n",
    "\n",
    "#CONSTANTS\n",
    "g = 9.8\n",
    "\n",
    "#PARAMETERS\n",
    "L1 = L2 = L = 1.0 \n",
    "\n",
    "dt = 0.01\n",
    "t_final = 20.0\n",
    "\n",
    "m1 = 1.0\n",
    "m2 = 1.0\n",
    "\n",
    "omega1_init = 1.0 # set initial values  \n",
    "omega2_init = 1.0\n",
    "theta1_init = 2.0\n",
    "theta2_init = 1.0\n",
    "\n",
    "\n",
    "\n",
    "tpoints = np.arange(0, t_final, dt) #create time slices of dt \n",
    "\n",
    "\n",
    "#integrate omega1 dot and omega2 dot functions twice to get theta1 and theta2\n",
    "#use two functions f(x) and h(x) for omega dot and g(x) and i(x) for domega/dt = theta for omega1 and omega2 \n",
    "\n",
    "def f(theta1, theta2, omega1, omega2, t): #omega1 dot \n",
    "    return (-(omega1)**2*sin(2*(theta1)-2*(theta2))+2*(omega2)**2*sin((theta1)-(theta2))+(g/L)*(sin((theta1)-2*(theta2))+3*sin(theta1)))/(3-cos(2*(theta1)-2*(theta2)))\n",
    "\n",
    "def h(theta1, theta2, omega1, omega2, t): #omega2 dot \n",
    "    return (4*(omega1)**2*sin((theta1)-(theta2))+(omega2)**2*sin(2*(theta1)-2*(theta2))+(g/L)*(sin(2*(theta1)-(theta2))-sin(theta2)))/(3-cos(2*(theta1)-2*(theta2)))\n",
    "\n",
    "def g(theta1, theta2, omega1, omega2, t): #dtheta1/ dt\n",
    "    return omega1\n",
    "\n",
    "def i(theta1, theta2, omega1, omega2, t): #dtheta2 / dt\n",
    "    return omega2\n",
    "\n",
    "\n",
    "def time_and_angles():\n",
    "    \"\"\"\n",
    "    Returns three Numpy arrays: \n",
    "    1. a list of time samples \n",
    "    2. a list of omega1\n",
    "    3. a list of omega2\n",
    "    No arguments (these are all assumed to be global variables)\n",
    "    \"\"\"\n",
    "    \n",
    "    theta1_points = []\n",
    "    omega1_points = []\n",
    "    theta2_points = []\n",
    "    omega2_points = []\n",
    "    \n",
    "    # Initialize theta1, theta2, omega1, omega2\n",
    "\n",
    "    theta1 = theta1_init \n",
    "    theta2 = theta2_init\n",
    "    omega1 = omega1_init\n",
    "    omega2 = omega2_init\n",
    "\n",
    "    \n",
    "    for t in tpoints:\n",
    "        \n",
    "        # Record theta1, omega1 and theta2, omega2\n",
    "        theta1_points.append(theta1)\n",
    "        omega1_points.append(omega1)\n",
    "        \n",
    "        theta2_points.append(theta2)\n",
    "        omega2_points.append(omega2)\n",
    "        \n",
    "        k1= dt*g(theta1_points[-1],theta2_points[-1], omega1_points[-1], omega2_points[-1], t)\n",
    "        k2= dt*g(theta1_points[-1] + 0.5*k1,theta2_points[-1], omega1_points[-1], omega2_points[-1], t+ 0.5*dt) \n",
    "        theta1 +=  k2  \n",
    "        \n",
    "        k1= dt*i(theta1_points[-1], theta2_points[-1],omega1_points[-1], omega2_points[-1], t)\n",
    "        k2= dt*i(theta1_points[-1], theta2_points[-1] + 0.5*k1, omega1_points[-1], omega2_points[-1], t+ 0.5*dt) \n",
    "        theta2 +=  k2  \n",
    "        \n",
    "        k1= dt*f(theta1_points[-1], theta2_points[-1], omega1_points[-1], omega2_points[-1], t)\n",
    "        k2= dt*f(theta1_points[-1], theta2_points[-1], omega1_points[-1] + 0.5*k1 ,omega2_points[-1], t + 0.5*dt) \n",
    "        omega1 += k2\n",
    "        \n",
    "        k1= dt*h(theta1_points[-1], theta2_points[-1],omega1_points[-1], omega2_points[-1],t)\n",
    "        k2= dt*h(theta1_points[-1], theta2_points[-1],omega1_points[-1], omega2_points[-1] + 0.5 *k1 , t + 0.5*dt) \n",
    "        omega2 += k2\n",
    "                   \n",
    "\n",
    "    tt = np.array(tpoints)\n",
    "    thetas1 = np.array(theta1_points)\n",
    "    omegas1 = np.array(omega1_points)\n",
    "    \n",
    "    thetas2 = np.array(theta2_points)\n",
    "    omegas2 = np.array(omegas2_points)\n",
    "        \n",
    "    \n",
    "    def X1():\n",
    "        x1 = L1*sin(thetas1) \n",
    "        return x1\n",
    "\n",
    "    def Y1():\n",
    "        y1 = -L1 * cos(thetas1)\n",
    "        return y1\n",
    "\n",
    "    def X2():\n",
    "        x2 = L2*sin(thetas2) \n",
    "        return x2\n",
    "\n",
    "    def Y2():\n",
    "        y2 = -L2*cos(theta2)\n",
    "        return y2\n",
    "    \n",
    "    return x1, y1, x2, y2, tt"
   ]
  },
  {
   "cell_type": "code",
   "execution_count": 31,
   "metadata": {
    "collapsed": false
   },
   "outputs": [
    {
     "ename": "TypeError",
     "evalue": "unsupported operand type(s) for /: 'function' and 'float'",
     "output_type": "error",
     "traceback": [
      "\u001b[0;31m---------------------------------------------------------------------------\u001b[0m",
      "\u001b[0;31mTypeError\u001b[0m                                 Traceback (most recent call last)",
      "\u001b[0;32m<ipython-input-31-1f64af4d8eb4>\u001b[0m in \u001b[0;36m<module>\u001b[0;34m()\u001b[0m\n\u001b[0;32m----> 1\u001b[0;31m \u001b[0mx1\u001b[0m\u001b[1;33m,\u001b[0m \u001b[0my1\u001b[0m\u001b[1;33m,\u001b[0m \u001b[0mx2\u001b[0m\u001b[1;33m,\u001b[0m \u001b[0my2\u001b[0m\u001b[1;33m,\u001b[0m \u001b[0mtt\u001b[0m \u001b[1;33m=\u001b[0m \u001b[0mtime_and_angles\u001b[0m\u001b[1;33m(\u001b[0m\u001b[1;33m)\u001b[0m\u001b[1;33m\u001b[0m\u001b[0m\n\u001b[0m\u001b[1;32m      2\u001b[0m \u001b[1;33m\u001b[0m\u001b[0m\n\u001b[1;32m      3\u001b[0m \u001b[0mplt\u001b[0m\u001b[1;33m.\u001b[0m\u001b[0mplot\u001b[0m\u001b[1;33m(\u001b[0m\u001b[0mx1\u001b[0m\u001b[1;33m,\u001b[0m \u001b[0my1\u001b[0m\u001b[1;33m,\u001b[0m \u001b[0mlabel\u001b[0m\u001b[1;33m=\u001b[0m\u001b[1;34m'first  bob'\u001b[0m\u001b[1;33m)\u001b[0m\u001b[1;33m\u001b[0m\u001b[0m\n\u001b[1;32m      4\u001b[0m \u001b[0mplt\u001b[0m\u001b[1;33m.\u001b[0m\u001b[0mplot\u001b[0m\u001b[1;33m(\u001b[0m\u001b[0mx2\u001b[0m\u001b[1;33m,\u001b[0m \u001b[0my2\u001b[0m\u001b[1;33m,\u001b[0m \u001b[0mlabel\u001b[0m\u001b[1;33m=\u001b[0m\u001b[1;34m'second bob'\u001b[0m\u001b[1;33m)\u001b[0m\u001b[1;33m\u001b[0m\u001b[0m\n\u001b[1;32m      5\u001b[0m \u001b[0mplt\u001b[0m\u001b[1;33m.\u001b[0m\u001b[0mtitle\u001b[0m\u001b[1;33m(\u001b[0m\u001b[1;34m\"Double Pendelum\"\u001b[0m\u001b[1;33m)\u001b[0m\u001b[1;33m\u001b[0m\u001b[0m\n",
      "\u001b[0;32m<ipython-input-30-ab694c9d89e5>\u001b[0m in \u001b[0;36mtime_and_angles\u001b[0;34m()\u001b[0m\n\u001b[1;32m     82\u001b[0m         \u001b[0mtheta2\u001b[0m \u001b[1;33m+=\u001b[0m  \u001b[0mk2\u001b[0m\u001b[1;33m\u001b[0m\u001b[0m\n\u001b[1;32m     83\u001b[0m \u001b[1;33m\u001b[0m\u001b[0m\n\u001b[0;32m---> 84\u001b[0;31m         \u001b[0mk1\u001b[0m\u001b[1;33m=\u001b[0m \u001b[0mdt\u001b[0m\u001b[1;33m*\u001b[0m\u001b[0mf\u001b[0m\u001b[1;33m(\u001b[0m\u001b[0mtheta1_points\u001b[0m\u001b[1;33m[\u001b[0m\u001b[1;33m-\u001b[0m\u001b[1;36m1\u001b[0m\u001b[1;33m]\u001b[0m\u001b[1;33m,\u001b[0m \u001b[0mtheta2_points\u001b[0m\u001b[1;33m[\u001b[0m\u001b[1;33m-\u001b[0m\u001b[1;36m1\u001b[0m\u001b[1;33m]\u001b[0m\u001b[1;33m,\u001b[0m \u001b[0momega1_points\u001b[0m\u001b[1;33m[\u001b[0m\u001b[1;33m-\u001b[0m\u001b[1;36m1\u001b[0m\u001b[1;33m]\u001b[0m\u001b[1;33m,\u001b[0m \u001b[0momega2_points\u001b[0m\u001b[1;33m[\u001b[0m\u001b[1;33m-\u001b[0m\u001b[1;36m1\u001b[0m\u001b[1;33m]\u001b[0m\u001b[1;33m,\u001b[0m \u001b[0mt\u001b[0m\u001b[1;33m)\u001b[0m\u001b[1;33m\u001b[0m\u001b[0m\n\u001b[0m\u001b[1;32m     85\u001b[0m         \u001b[0mk2\u001b[0m\u001b[1;33m=\u001b[0m \u001b[0mdt\u001b[0m\u001b[1;33m*\u001b[0m\u001b[0mf\u001b[0m\u001b[1;33m(\u001b[0m\u001b[0mtheta1_points\u001b[0m\u001b[1;33m[\u001b[0m\u001b[1;33m-\u001b[0m\u001b[1;36m1\u001b[0m\u001b[1;33m]\u001b[0m\u001b[1;33m,\u001b[0m \u001b[0mtheta2_points\u001b[0m\u001b[1;33m[\u001b[0m\u001b[1;33m-\u001b[0m\u001b[1;36m1\u001b[0m\u001b[1;33m]\u001b[0m\u001b[1;33m,\u001b[0m \u001b[0momega1_points\u001b[0m\u001b[1;33m[\u001b[0m\u001b[1;33m-\u001b[0m\u001b[1;36m1\u001b[0m\u001b[1;33m]\u001b[0m \u001b[1;33m+\u001b[0m \u001b[1;36m0.5\u001b[0m\u001b[1;33m*\u001b[0m\u001b[0mk1\u001b[0m \u001b[1;33m,\u001b[0m\u001b[0momega2_points\u001b[0m\u001b[1;33m[\u001b[0m\u001b[1;33m-\u001b[0m\u001b[1;36m1\u001b[0m\u001b[1;33m]\u001b[0m\u001b[1;33m,\u001b[0m \u001b[0mt\u001b[0m \u001b[1;33m+\u001b[0m \u001b[1;36m0.5\u001b[0m\u001b[1;33m*\u001b[0m\u001b[0mdt\u001b[0m\u001b[1;33m)\u001b[0m\u001b[1;33m\u001b[0m\u001b[0m\n\u001b[1;32m     86\u001b[0m         \u001b[0momega1\u001b[0m \u001b[1;33m+=\u001b[0m \u001b[0mk2\u001b[0m\u001b[1;33m\u001b[0m\u001b[0m\n",
      "\u001b[0;32m<ipython-input-30-ab694c9d89e5>\u001b[0m in \u001b[0;36mf\u001b[0;34m(theta1, theta2, omega1, omega2, t)\u001b[0m\n\u001b[1;32m     31\u001b[0m \u001b[1;33m\u001b[0m\u001b[0m\n\u001b[1;32m     32\u001b[0m \u001b[1;32mdef\u001b[0m \u001b[0mf\u001b[0m\u001b[1;33m(\u001b[0m\u001b[0mtheta1\u001b[0m\u001b[1;33m,\u001b[0m \u001b[0mtheta2\u001b[0m\u001b[1;33m,\u001b[0m \u001b[0momega1\u001b[0m\u001b[1;33m,\u001b[0m \u001b[0momega2\u001b[0m\u001b[1;33m,\u001b[0m \u001b[0mt\u001b[0m\u001b[1;33m)\u001b[0m\u001b[1;33m:\u001b[0m \u001b[1;31m#omega1 dot\u001b[0m\u001b[1;33m\u001b[0m\u001b[0m\n\u001b[0;32m---> 33\u001b[0;31m     \u001b[1;32mreturn\u001b[0m \u001b[1;33m(\u001b[0m\u001b[1;33m-\u001b[0m\u001b[1;33m(\u001b[0m\u001b[0momega1\u001b[0m\u001b[1;33m)\u001b[0m\u001b[1;33m**\u001b[0m\u001b[1;36m2\u001b[0m\u001b[1;33m*\u001b[0m\u001b[0msin\u001b[0m\u001b[1;33m(\u001b[0m\u001b[1;36m2\u001b[0m\u001b[1;33m*\u001b[0m\u001b[1;33m(\u001b[0m\u001b[0mtheta1\u001b[0m\u001b[1;33m)\u001b[0m\u001b[1;33m-\u001b[0m\u001b[1;36m2\u001b[0m\u001b[1;33m*\u001b[0m\u001b[1;33m(\u001b[0m\u001b[0mtheta2\u001b[0m\u001b[1;33m)\u001b[0m\u001b[1;33m)\u001b[0m\u001b[1;33m+\u001b[0m\u001b[1;36m2\u001b[0m\u001b[1;33m*\u001b[0m\u001b[1;33m(\u001b[0m\u001b[0momega2\u001b[0m\u001b[1;33m)\u001b[0m\u001b[1;33m**\u001b[0m\u001b[1;36m2\u001b[0m\u001b[1;33m*\u001b[0m\u001b[0msin\u001b[0m\u001b[1;33m(\u001b[0m\u001b[1;33m(\u001b[0m\u001b[0mtheta1\u001b[0m\u001b[1;33m)\u001b[0m\u001b[1;33m-\u001b[0m\u001b[1;33m(\u001b[0m\u001b[0mtheta2\u001b[0m\u001b[1;33m)\u001b[0m\u001b[1;33m)\u001b[0m\u001b[1;33m+\u001b[0m\u001b[1;33m(\u001b[0m\u001b[0mg\u001b[0m\u001b[1;33m/\u001b[0m\u001b[0mL\u001b[0m\u001b[1;33m)\u001b[0m\u001b[1;33m*\u001b[0m\u001b[1;33m(\u001b[0m\u001b[0msin\u001b[0m\u001b[1;33m(\u001b[0m\u001b[1;33m(\u001b[0m\u001b[0mtheta1\u001b[0m\u001b[1;33m)\u001b[0m\u001b[1;33m-\u001b[0m\u001b[1;36m2\u001b[0m\u001b[1;33m*\u001b[0m\u001b[1;33m(\u001b[0m\u001b[0mtheta2\u001b[0m\u001b[1;33m)\u001b[0m\u001b[1;33m)\u001b[0m\u001b[1;33m+\u001b[0m\u001b[1;36m3\u001b[0m\u001b[1;33m*\u001b[0m\u001b[0msin\u001b[0m\u001b[1;33m(\u001b[0m\u001b[0mtheta1\u001b[0m\u001b[1;33m)\u001b[0m\u001b[1;33m)\u001b[0m\u001b[1;33m)\u001b[0m\u001b[1;33m/\u001b[0m\u001b[1;33m(\u001b[0m\u001b[1;36m3\u001b[0m\u001b[1;33m-\u001b[0m\u001b[0mcos\u001b[0m\u001b[1;33m(\u001b[0m\u001b[1;36m2\u001b[0m\u001b[1;33m*\u001b[0m\u001b[1;33m(\u001b[0m\u001b[0mtheta1\u001b[0m\u001b[1;33m)\u001b[0m\u001b[1;33m-\u001b[0m\u001b[1;36m2\u001b[0m\u001b[1;33m*\u001b[0m\u001b[1;33m(\u001b[0m\u001b[0mtheta2\u001b[0m\u001b[1;33m)\u001b[0m\u001b[1;33m)\u001b[0m\u001b[1;33m)\u001b[0m\u001b[1;33m\u001b[0m\u001b[0m\n\u001b[0m\u001b[1;32m     34\u001b[0m \u001b[1;33m\u001b[0m\u001b[0m\n\u001b[1;32m     35\u001b[0m \u001b[1;32mdef\u001b[0m \u001b[0mh\u001b[0m\u001b[1;33m(\u001b[0m\u001b[0mtheta1\u001b[0m\u001b[1;33m,\u001b[0m \u001b[0mtheta2\u001b[0m\u001b[1;33m,\u001b[0m \u001b[0momega1\u001b[0m\u001b[1;33m,\u001b[0m \u001b[0momega2\u001b[0m\u001b[1;33m,\u001b[0m \u001b[0mt\u001b[0m\u001b[1;33m)\u001b[0m\u001b[1;33m:\u001b[0m \u001b[1;31m#omega2 dot\u001b[0m\u001b[1;33m\u001b[0m\u001b[0m\n",
      "\u001b[0;31mTypeError\u001b[0m: unsupported operand type(s) for /: 'function' and 'float'"
     ]
    }
   ],
   "source": [
    "x1, y1, x2, y2, tt = time_and_angles()\n",
    "\n",
    "plt.plot(x1, y1, label='first  bob')\n",
    "plt.plot(x2, y2, label='second bob')\n",
    "plt.title(\"Double Pendelum\")\n",
    "plt.xlabel('x-position')\n",
    "plt.ylabel('y-position')\n",
    "plt.legend()\n",
    "plt.show()"
   ]
  },
  {
   "cell_type": "markdown",
   "metadata": {},
   "source": [
    "## Problem 1, extra credit:\n",
    "\n",
    "I think the double pendulum trajectories are really neat. They're a very simple system with surprisingly complex behavior. (Maybe it's just surprising to me?) For extra credit (or for inspiration for Physics Hack Day), consider some of the following:\n",
    "\n",
    "* Make an animation of the double pendulum trajectory. You can simultaneously animate the trajectories of both weights, see <a href=\"https://en.wikipedia.org/wiki/Double_pendulum#/media/File:Trajektorie_eines_Doppelpendels.gif\">this  example</a>. \n",
    "* In your animation above, can you also do the \"gradual fading\" of the older trajectory points that is demonstrated in the example?\n",
    "* Here's something really cool: can you **sonify** the trajectory? Map the *velocity* of the mass to a pitch and then play the pitch as the pendulum moves. In this way, you model the *Doppler shift* of a buzzer attached to the double pendulum. You can find an example of the implementation of the `scipy` sound library <a href=\"https://losc.ligo.org/s/events/GW150914/GW150914_tutorial.html\">here</a>... which is itself a fantastic example of a Jupyter notebook in Nobel-prize-worthy research.\n",
    "* Triple pendulum?! (If you need inspiration: https://www.youtube.com/watch?v=OQSNhk5ICTI)"
   ]
  },
  {
   "cell_type": "markdown",
   "metadata": {},
   "source": [
    "## Problem 2: Poisson Equation\n",
    "\n",
    "The Poisson equation in two dimension is:\n",
    "\n",
    "$$\\displaystyle \\partial_x^2 \\phi(x,y) + \\partial_y^2 \\phi(x,y) = -\\rho(x,y)$$\n",
    "\n",
    "We have picked units where $\\varepsilon_0 = 1$ and $\\rho$ is the charge density.\n",
    "\n",
    "This is similar to the <a href=\"https://github.com/Physics177-2017/Lec11-PDE/blob/master/Lecture%2011%20Preview.ipynb\">Lecture 11</a> demo, except that now there are source charges. \n",
    "\n",
    "Numerically solve the Poisson equation following two dimensional system (Newman Example 9.2):\n",
    "\n",
    "<img src=\"HW5_NewmanFig9.4.png\">\n",
    "\n",
    "This is a 2D with size 100 cm by 100 cm. There are smaller 20 cm by 20 cm squares. The one on the upper right has charge density $\\rho = +1/\\text{cm}^2$ and the one on the lower left has charge density $\\rho = -1/\\text{cm}^2$. The boundaries of the large square are set to zero potential. \n",
    "\n",
    "Solve for the potential, $\\phi$, everywhere in the large square. Plot the potential. I leave it to you to pick a discretization (step size) that is sufficiently fast while also demonstrating the correct behavior. \n",
    "\n",
    "Hint: before you do anything, you should guess what the expected result should be."
   ]
  },
  {
   "cell_type": "code",
   "execution_count": 16,
   "metadata": {
    "collapsed": false
   },
   "outputs": [],
   "source": [
    "import numpy as np\n",
    "\n",
    "# Constants\n",
    "M = 10     # grid squares per side\n",
    "\n",
    "target = 1e-2  # target accuracy\n",
    "\n",
    "phi = np.zeros([M+1,M+1],float) # initialize the large area of zero charge density of Area 100 x 100 cm \n",
    "rhoPos = 1.0\n",
    "rhoNeg = -1.0\n",
    "\n",
    "#Change phi to charge densities\n",
    "\n",
    "# build a loop that fills in the 20x20 areas with charge densities\n",
    "\n",
    "phi[6:8,6:8] = rhoPos\n",
    "phi[2:4,2:4] = rhoNeg\n",
    "\n",
    "\n",
    "phiprime = np.zeros([M+1, M+1],float) # container for new values\n",
    "\n",
    "\n",
    "# print(phi)\n",
    "\n",
    "# Main Loop\n",
    "delta = 1.0\n",
    "while delta > target:\n",
    "    # calculate new values of the potential\n",
    "\n",
    "    for i in range(M+1):\n",
    "        for j in range(M+1):\n",
    "\n",
    "            # if boundary\n",
    "            if i==0 or i==M or j==0 or j==M:\n",
    "                phiprime[i,j] = phi[i,j]\n",
    "            else:\n",
    "                phiprime[i,j] = (phi[i+1,j] + phi[i-1,j] + phi[i,j+1] + phi[i,j-1])/4.\n",
    "    \n",
    "    # NOTE: indentation is very important!\n",
    "    # convergence check\n",
    "    delta = np.max(np.abs(phi-phiprime))\n",
    "            \n",
    "    # swap arrays\n",
    "    phi, phiprime = phiprime, phi\n",
    "\n",
    "            \n",
    "#print(phi)"
   ]
  },
  {
   "cell_type": "code",
   "execution_count": 17,
   "metadata": {
    "collapsed": false
   },
   "outputs": [
    {
     "data": {
      "image/png": "[encoded data removed]",
      "text/plain": [
       "<matplotlib.figure.Figure at 0x1df77a5c0f0>"
      ]
     },
     "metadata": {},
     "output_type": "display_data"
    }
   ],
   "source": [
    "import matplotlib.pyplot as plt\n",
    "\n",
    "xx, yy = np.meshgrid(np.arange(M+1),np.arange(M+1))\n",
    "plt.pcolormesh(xx,yy,phi)\n",
    "plt.colorbar()\n",
    "plt.show()"
   ]
  },
  {
   "cell_type": "code",
   "execution_count": null,
   "metadata": {
    "collapsed": true
   },
   "outputs": [],
   "source": []
  }
 ],
 "metadata": {
  "kernelspec": {
   "display_name": "Python 3",
   "language": "python",
   "name": "python3"
  },
  "language_info": {
   "codemirror_mode": {
    "name": "ipython",
    "version": 3
   },
   "file_extension": ".py",
   "mimetype": "text/x-python",
   "name": "python",
   "nbconvert_exporter": "python",
   "pygments_lexer": "ipython3",
   "version": "3.6.0"
  }
 },
 "nbformat": 4,
 "nbformat_minor": 2
}
